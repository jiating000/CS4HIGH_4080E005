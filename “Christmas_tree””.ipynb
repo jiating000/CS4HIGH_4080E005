{
  "nbformat": 4,
  "nbformat_minor": 0,
  "metadata": {
    "colab": {
      "name": "“Christmas tree”的副本”的副本",
      "version": "0.3.2",
      "provenance": [],
      "include_colab_link": true
    },
    "kernelspec": {
      "name": "python3",
      "display_name": "Python 3"
    }
  },
  "cells": [
    {
      "cell_type": "markdown",
      "metadata": {
        "id": "view-in-github",
        "colab_type": "text"
      },
      "source": [
        "<a href=\"https://colab.research.google.com/github/jiating000/CS4HIGH_4080E005/blob/master/%E2%80%9CChristmas_tree%E2%80%9D%E2%80%9D.ipynb\" target=\"_parent\"><img src=\"https://colab.research.google.com/assets/colab-badge.svg\" alt=\"Open In Colab\"/></a>"
      ]
    },
    {
      "cell_type": "code",
      "metadata": {
        "id": "csWX5kOiu8B4",
        "colab_type": "code",
        "outputId": "674957da-3d32-4d8e-f33a-a1060d3852ad",
        "colab": {
          "base_uri": "https://localhost:8080/",
          "height": 136
        }
      },
      "source": [
        "print(\"     *\")\n",
        "print(\"    ***\")\n",
        "print(\"   *****\")\n",
        "print(\"  *******\")\n",
        "print(\" *********\")\n",
        "print(\"***********\")\n",
        "print(\"    ||\")"
      ],
      "execution_count": 0,
      "outputs": [
        {
          "output_type": "stream",
          "text": [
            "     *\n",
            "    ***\n",
            "   *****\n",
            "  *******\n",
            " *********\n",
            "***********\n",
            "    ||\n"
          ],
          "name": "stdout"
        }
      ]
    }
  ]
}